{
 "cells": [
  {
   "cell_type": "code",
   "execution_count": 1,
   "id": "aa37ef52",
   "metadata": {},
   "outputs": [],
   "source": [
    "import pandas as pd\n",
    "import yfinance as yf\n",
    "import vectorbt as vbt"
   ]
  },
  {
   "cell_type": "markdown",
   "id": "862ae74b",
   "metadata": {},
   "source": [
    "### Cruzamento de médias móveis\n",
    "\n",
    "Vamos testar a estratégia de cruzamento de médias móveis utilizando o Vectorbt como ferramenta de backtest.\n",
    "\n",
    "As médias móveis são definidas pela quantidade de períodos incluídos no cálculo. Normalmente usa-se uma quantidade de períodos menor em conjunto com outra de maior quantidade de períodos.\n",
    "\n",
    "Quando a média curta passa para cima da média longa pode significar uma tendência de alta e de baixa quando o contrário ocorre.\n",
    "\n",
    "As médias móveis são usadas há anos pela estatística para suavizar valores em séries temporais, filtrando ruído provocado por flutuações de curto prazo e destacando tendências ou ciclos de longo prazo.\n",
    "\n",
    "Fonte: https://smarttbot.com/trader/medias-moveis-para-day-trade/"
   ]
  },
  {
   "cell_type": "code",
   "execution_count": 2,
   "id": "044d2a7d",
   "metadata": {},
   "outputs": [],
   "source": [
    "# Histórico do Índice Ibovespa\n",
    "dados = vbt.YFData.download('^BVSP').get()"
   ]
  },
  {
   "cell_type": "code",
   "execution_count": 3,
   "id": "60b9a39e",
   "metadata": {},
   "outputs": [
    {
     "data": {
      "text/html": [
       "<div>\n",
       "<style scoped>\n",
       "    .dataframe tbody tr th:only-of-type {\n",
       "        vertical-align: middle;\n",
       "    }\n",
       "\n",
       "    .dataframe tbody tr th {\n",
       "        vertical-align: top;\n",
       "    }\n",
       "\n",
       "    .dataframe thead th {\n",
       "        text-align: right;\n",
       "    }\n",
       "</style>\n",
       "<table border=\"1\" class=\"dataframe\">\n",
       "  <thead>\n",
       "    <tr style=\"text-align: right;\">\n",
       "      <th></th>\n",
       "      <th>Open</th>\n",
       "      <th>High</th>\n",
       "      <th>Low</th>\n",
       "      <th>Close</th>\n",
       "      <th>Volume</th>\n",
       "      <th>Dividends</th>\n",
       "      <th>Stock Splits</th>\n",
       "    </tr>\n",
       "    <tr>\n",
       "      <th>Date</th>\n",
       "      <th></th>\n",
       "      <th></th>\n",
       "      <th></th>\n",
       "      <th></th>\n",
       "      <th></th>\n",
       "      <th></th>\n",
       "      <th></th>\n",
       "    </tr>\n",
       "  </thead>\n",
       "  <tbody>\n",
       "    <tr>\n",
       "      <th>1993-04-27 00:00:00+00:00</th>\n",
       "      <td>24.799999</td>\n",
       "      <td>25.400000</td>\n",
       "      <td>24.500000</td>\n",
       "      <td>24.500000</td>\n",
       "      <td>0</td>\n",
       "      <td>0</td>\n",
       "      <td>0</td>\n",
       "    </tr>\n",
       "    <tr>\n",
       "      <th>1993-04-28 00:00:00+00:00</th>\n",
       "      <td>24.500000</td>\n",
       "      <td>24.600000</td>\n",
       "      <td>23.700001</td>\n",
       "      <td>24.299999</td>\n",
       "      <td>0</td>\n",
       "      <td>0</td>\n",
       "      <td>0</td>\n",
       "    </tr>\n",
       "    <tr>\n",
       "      <th>1993-04-29 00:00:00+00:00</th>\n",
       "      <td>24.299999</td>\n",
       "      <td>24.799999</td>\n",
       "      <td>23.700001</td>\n",
       "      <td>23.700001</td>\n",
       "      <td>0</td>\n",
       "      <td>0</td>\n",
       "      <td>0</td>\n",
       "    </tr>\n",
       "    <tr>\n",
       "      <th>1993-04-30 00:00:00+00:00</th>\n",
       "      <td>23.700001</td>\n",
       "      <td>24.200001</td>\n",
       "      <td>23.700001</td>\n",
       "      <td>24.100000</td>\n",
       "      <td>0</td>\n",
       "      <td>0</td>\n",
       "      <td>0</td>\n",
       "    </tr>\n",
       "    <tr>\n",
       "      <th>1993-05-03 00:00:00+00:00</th>\n",
       "      <td>24.100000</td>\n",
       "      <td>24.400000</td>\n",
       "      <td>23.799999</td>\n",
       "      <td>24.100000</td>\n",
       "      <td>0</td>\n",
       "      <td>0</td>\n",
       "      <td>0</td>\n",
       "    </tr>\n",
       "  </tbody>\n",
       "</table>\n",
       "</div>"
      ],
      "text/plain": [
       "                                Open       High        Low      Close  Volume  \\\n",
       "Date                                                                            \n",
       "1993-04-27 00:00:00+00:00  24.799999  25.400000  24.500000  24.500000       0   \n",
       "1993-04-28 00:00:00+00:00  24.500000  24.600000  23.700001  24.299999       0   \n",
       "1993-04-29 00:00:00+00:00  24.299999  24.799999  23.700001  23.700001       0   \n",
       "1993-04-30 00:00:00+00:00  23.700001  24.200001  23.700001  24.100000       0   \n",
       "1993-05-03 00:00:00+00:00  24.100000  24.400000  23.799999  24.100000       0   \n",
       "\n",
       "                           Dividends  Stock Splits  \n",
       "Date                                                \n",
       "1993-04-27 00:00:00+00:00          0             0  \n",
       "1993-04-28 00:00:00+00:00          0             0  \n",
       "1993-04-29 00:00:00+00:00          0             0  \n",
       "1993-04-30 00:00:00+00:00          0             0  \n",
       "1993-05-03 00:00:00+00:00          0             0  "
      ]
     },
     "execution_count": 3,
     "metadata": {},
     "output_type": "execute_result"
    }
   ],
   "source": [
    "dados.head()"
   ]
  },
  {
   "cell_type": "code",
   "execution_count": 4,
   "id": "7dd52c75",
   "metadata": {},
   "outputs": [],
   "source": [
    "fechamento = dados['2012':]['Close'].copy()"
   ]
  },
  {
   "cell_type": "markdown",
   "id": "8093f38b",
   "metadata": {},
   "source": [
    "Calculando as médias móveis"
   ]
  },
  {
   "cell_type": "code",
   "execution_count": 5,
   "id": "b7833216",
   "metadata": {},
   "outputs": [],
   "source": [
    "media_curta = vbt.MA.run(fechamento, 10) # 15 dias (média rápida)\n",
    "media_longa = vbt.MA.run(fechamento, 60) # 60 dias (média lenta)"
   ]
  },
  {
   "cell_type": "markdown",
   "id": "ea807f6a",
   "metadata": {},
   "source": [
    "***\n",
    "\n",
    "### Estratégia\n",
    "\n",
    "* **COMPRAR** (= +1) média curta passa para cima da média longa.\n",
    "* **VENDER** (= -1) a média curta voltar para baixo da média longa."
   ]
  },
  {
   "cell_type": "code",
   "execution_count": 6,
   "id": "09a1296b",
   "metadata": {},
   "outputs": [],
   "source": [
    "compras = media_curta.ma_crossed_above(media_longa)\n",
    "vendas = media_curta.ma_crossed_below(media_longa)"
   ]
  },
  {
   "cell_type": "markdown",
   "id": "081a5828",
   "metadata": {},
   "source": [
    "Execução do backtest considerando os sinais de compra e venda calculados anteriormente"
   ]
  },
  {
   "cell_type": "code",
   "execution_count": 7,
   "id": "3aa05da4",
   "metadata": {},
   "outputs": [],
   "source": [
    "pf = vbt.Portfolio.from_signals(fechamento, compras, vendas, freq='d', init_cash=1000)"
   ]
  },
  {
   "cell_type": "code",
   "execution_count": 8,
   "id": "d5709e5a",
   "metadata": {},
   "outputs": [
    {
     "data": {
      "text/plain": [
       "1.2101691783017463"
      ]
     },
     "execution_count": 8,
     "metadata": {},
     "output_type": "execute_result"
    }
   ],
   "source": [
    "pf.total_return()"
   ]
  },
  {
   "cell_type": "markdown",
   "id": "db81881b",
   "metadata": {},
   "source": [
    "Gráfico das ordens: compras (buy) e vendas (sell)"
   ]
  },
  {
   "cell_type": "code",
   "execution_count": 9,
   "id": "f98bc87f",
   "metadata": {},
   "outputs": [
    {
     "data": {
      "image/png": "[encoded data removed]"
     },
     "metadata": {},
     "output_type": "display_data"
    }
   ],
   "source": [
    "pf.plot_orders().show_png()"
   ]
  },
  {
   "cell_type": "markdown",
   "id": "d8c2a957",
   "metadata": {},
   "source": [
    "### Comparando a estratégia com a oopção Long Only"
   ]
  },
  {
   "cell_type": "code",
   "execution_count": 10,
   "id": "b6213d6a",
   "metadata": {},
   "outputs": [],
   "source": [
    "import pandas as pd"
   ]
  },
  {
   "cell_type": "code",
   "execution_count": 11,
   "id": "af928336",
   "metadata": {},
   "outputs": [],
   "source": [
    "retornos_long_only = fechamento.pct_change() "
   ]
  },
  {
   "cell_type": "code",
   "execution_count": 12,
   "id": "0eecfd34",
   "metadata": {},
   "outputs": [],
   "source": [
    "estrategias = pd.concat([pf.returns(), retornos_long_only], axis=1)\n",
    "estrategias.columns = ['Cruzamento MM', 'Long Only']"
   ]
  },
  {
   "cell_type": "code",
   "execution_count": 13,
   "id": "70f12490",
   "metadata": {},
   "outputs": [
    {
     "data": {
      "text/html": [
       "<div>\n",
       "<style scoped>\n",
       "    .dataframe tbody tr th:only-of-type {\n",
       "        vertical-align: middle;\n",
       "    }\n",
       "\n",
       "    .dataframe tbody tr th {\n",
       "        vertical-align: top;\n",
       "    }\n",
       "\n",
       "    .dataframe thead th {\n",
       "        text-align: right;\n",
       "    }\n",
       "</style>\n",
       "<table border=\"1\" class=\"dataframe\">\n",
       "  <thead>\n",
       "    <tr style=\"text-align: right;\">\n",
       "      <th></th>\n",
       "      <th>Cruzamento MM</th>\n",
       "      <th>Long Only</th>\n",
       "    </tr>\n",
       "    <tr>\n",
       "      <th>Date</th>\n",
       "      <th></th>\n",
       "      <th></th>\n",
       "    </tr>\n",
       "  </thead>\n",
       "  <tbody>\n",
       "    <tr>\n",
       "      <th>2022-04-14 00:00:00+00:00</th>\n",
       "      <td>-0.005138</td>\n",
       "      <td>-0.005138</td>\n",
       "    </tr>\n",
       "    <tr>\n",
       "      <th>2022-04-18 00:00:00+00:00</th>\n",
       "      <td>-0.004261</td>\n",
       "      <td>-0.004261</td>\n",
       "    </tr>\n",
       "    <tr>\n",
       "      <th>2022-04-19 00:00:00+00:00</th>\n",
       "      <td>-0.005446</td>\n",
       "      <td>-0.005446</td>\n",
       "    </tr>\n",
       "    <tr>\n",
       "      <th>2022-04-20 00:00:00+00:00</th>\n",
       "      <td>-0.006197</td>\n",
       "      <td>-0.006197</td>\n",
       "    </tr>\n",
       "    <tr>\n",
       "      <th>2022-04-22 00:00:00+00:00</th>\n",
       "      <td>-0.027837</td>\n",
       "      <td>-0.027837</td>\n",
       "    </tr>\n",
       "  </tbody>\n",
       "</table>\n",
       "</div>"
      ],
      "text/plain": [
       "                           Cruzamento MM  Long Only\n",
       "Date                                               \n",
       "2022-04-14 00:00:00+00:00      -0.005138  -0.005138\n",
       "2022-04-18 00:00:00+00:00      -0.004261  -0.004261\n",
       "2022-04-19 00:00:00+00:00      -0.005446  -0.005446\n",
       "2022-04-20 00:00:00+00:00      -0.006197  -0.006197\n",
       "2022-04-22 00:00:00+00:00      -0.027837  -0.027837"
      ]
     },
     "execution_count": 13,
     "metadata": {},
     "output_type": "execute_result"
    }
   ],
   "source": [
    "estrategias.tail()"
   ]
  },
  {
   "cell_type": "code",
   "execution_count": 14,
   "id": "abaac603",
   "metadata": {},
   "outputs": [],
   "source": [
    "retornos = (estrategias + 1).cumprod()-1 # obtendo o retorno acumulado"
   ]
  },
  {
   "cell_type": "code",
   "execution_count": 15,
   "id": "6985a066",
   "metadata": {},
   "outputs": [
    {
     "data": {
      "image/png": "[encoded data removed]",
      "text/plain": [
       "<Figure size 864x432 with 1 Axes>"
      ]
     },
     "metadata": {
      "needs_background": "light"
     },
     "output_type": "display_data"
    }
   ],
   "source": [
    "retornos.plot(figsize=(12,6));"
   ]
  },
  {
   "cell_type": "code",
   "execution_count": 16,
   "id": "72f8cf99",
   "metadata": {},
   "outputs": [
    {
     "data": {
      "text/html": [
       "<div>\n",
       "<style scoped>\n",
       "    .dataframe tbody tr th:only-of-type {\n",
       "        vertical-align: middle;\n",
       "    }\n",
       "\n",
       "    .dataframe tbody tr th {\n",
       "        vertical-align: top;\n",
       "    }\n",
       "\n",
       "    .dataframe thead th {\n",
       "        text-align: right;\n",
       "    }\n",
       "</style>\n",
       "<table border=\"1\" class=\"dataframe\">\n",
       "  <thead>\n",
       "    <tr style=\"text-align: right;\">\n",
       "      <th></th>\n",
       "      <th>Cruzamento MM</th>\n",
       "      <th>Long Only</th>\n",
       "    </tr>\n",
       "    <tr>\n",
       "      <th>Date</th>\n",
       "      <th></th>\n",
       "      <th></th>\n",
       "    </tr>\n",
       "  </thead>\n",
       "  <tbody>\n",
       "    <tr>\n",
       "      <th>2022-04-22 00:00:00+00:00</th>\n",
       "      <td>1.210169</td>\n",
       "      <td>0.87566</td>\n",
       "    </tr>\n",
       "  </tbody>\n",
       "</table>\n",
       "</div>"
      ],
      "text/plain": [
       "                           Cruzamento MM  Long Only\n",
       "Date                                               \n",
       "2022-04-22 00:00:00+00:00       1.210169    0.87566"
      ]
     },
     "execution_count": 16,
     "metadata": {},
     "output_type": "execute_result"
    }
   ],
   "source": [
    "# Retorno final de cada estratégia\n",
    "retornos.tail(1)"
   ]
  },
  {
   "cell_type": "markdown",
   "id": "7b4cd941",
   "metadata": {},
   "source": [
    "### Quais os sinais dos últimos 5 dias?"
   ]
  },
  {
   "cell_type": "code",
   "execution_count": 17,
   "id": "e356c100",
   "metadata": {},
   "outputs": [],
   "source": [
    "sinais = pd.concat([compras, vendas], axis=1)\n",
    "sinais.columns = ['Compra', 'Venda']"
   ]
  },
  {
   "cell_type": "code",
   "execution_count": 18,
   "id": "ef6177fb",
   "metadata": {},
   "outputs": [
    {
     "data": {
      "text/html": [
       "<div>\n",
       "<style scoped>\n",
       "    .dataframe tbody tr th:only-of-type {\n",
       "        vertical-align: middle;\n",
       "    }\n",
       "\n",
       "    .dataframe tbody tr th {\n",
       "        vertical-align: top;\n",
       "    }\n",
       "\n",
       "    .dataframe thead th {\n",
       "        text-align: right;\n",
       "    }\n",
       "</style>\n",
       "<table border=\"1\" class=\"dataframe\">\n",
       "  <thead>\n",
       "    <tr style=\"text-align: right;\">\n",
       "      <th></th>\n",
       "      <th>Compra</th>\n",
       "      <th>Venda</th>\n",
       "    </tr>\n",
       "    <tr>\n",
       "      <th>Date</th>\n",
       "      <th></th>\n",
       "      <th></th>\n",
       "    </tr>\n",
       "  </thead>\n",
       "  <tbody>\n",
       "    <tr>\n",
       "      <th>2022-04-14 00:00:00+00:00</th>\n",
       "      <td>False</td>\n",
       "      <td>False</td>\n",
       "    </tr>\n",
       "    <tr>\n",
       "      <th>2022-04-18 00:00:00+00:00</th>\n",
       "      <td>False</td>\n",
       "      <td>False</td>\n",
       "    </tr>\n",
       "    <tr>\n",
       "      <th>2022-04-19 00:00:00+00:00</th>\n",
       "      <td>False</td>\n",
       "      <td>False</td>\n",
       "    </tr>\n",
       "    <tr>\n",
       "      <th>2022-04-20 00:00:00+00:00</th>\n",
       "      <td>False</td>\n",
       "      <td>False</td>\n",
       "    </tr>\n",
       "    <tr>\n",
       "      <th>2022-04-22 00:00:00+00:00</th>\n",
       "      <td>False</td>\n",
       "      <td>False</td>\n",
       "    </tr>\n",
       "  </tbody>\n",
       "</table>\n",
       "</div>"
      ],
      "text/plain": [
       "                           Compra  Venda\n",
       "Date                                    \n",
       "2022-04-14 00:00:00+00:00   False  False\n",
       "2022-04-18 00:00:00+00:00   False  False\n",
       "2022-04-19 00:00:00+00:00   False  False\n",
       "2022-04-20 00:00:00+00:00   False  False\n",
       "2022-04-22 00:00:00+00:00   False  False"
      ]
     },
     "execution_count": 18,
     "metadata": {},
     "output_type": "execute_result"
    }
   ],
   "source": [
    "sinais.tail(5)"
   ]
  }
 ],
 "metadata": {
  "kernelspec": {
   "display_name": "Python 3",
   "language": "python",
   "name": "python3"
  },
  "language_info": {
   "codemirror_mode": {
    "name": "ipython",
    "version": 3
   },
   "file_extension": ".py",
   "mimetype": "text/x-python",
   "name": "python",
   "nbconvert_exporter": "python",
   "pygments_lexer": "ipython3",
   "version": "3.8.8"
  }
 },
 "nbformat": 4,
 "nbformat_minor": 5
}
